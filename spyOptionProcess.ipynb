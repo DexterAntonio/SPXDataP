{
 "cells": [
  {
   "cell_type": "markdown",
   "metadata": {
    "collapsed": true
   },
   "source": [
    "# This imports CSV data from CBOE and then processes it "
   ]
  },
  {
   "cell_type": "code",
   "execution_count": 1,
   "metadata": {
    "collapsed": true
   },
   "outputs": [],
   "source": [
    "import pandas as pd \n",
    "import numpy as np\n",
    "import matplotlib.pyplot as plt\n",
    "import csv\n",
    "from datetime import datetime\n",
    "from datetime import timedelta"
   ]
  },
  {
   "cell_type": "raw",
   "metadata": {
    "collapsed": false,
    "raw_mimetype": "text/html",
    "scrolled": true
   },
   "source": [
    "titles = ['underlying_symbol','quote_datetime','root','expiration','strike','option_type','open','high','low','close','trade_volume','bid_size','bid','ask_size','ask','underlying_bid','underlying_ask','implied_underlying_price','active_underlying_price','implied_volatility\tdelta','gamma','theta','vega','rho']"
   ]
  },
  {
   "cell_type": "code",
   "execution_count": 2,
   "metadata": {
    "collapsed": true
   },
   "outputs": [],
   "source": [
    "def getcsvD():\n",
    "    titles = ['underlying_symbol','quote_datetime','root','expiration','strike','option_type','open','high','low','close','trade_volume','bid_size','bid','ask_size','ask','underlying_bid','underlying_ask','implied_underlying_price','active_underlying_price','implied_volatility',\t'delta','gamma','theta','vega','rho','hash_value']\n",
    "    i  = 0 \n",
    "    csvD = {} #csvDictionary give it a column name and it returns its index \n",
    "    for i in range(0, len(titles)): \n",
    "        csvD[titles[i]] = i \n",
    "    return csvD "
   ]
  },
  {
   "cell_type": "code",
   "execution_count": 3,
   "metadata": {
    "collapsed": false
   },
   "outputs": [],
   "source": [
    "#Does not account for market holidays \n",
    "def makeFileList(startDate,endDate,directory):\n",
    "    cDate = startDate \n",
    "    fileList = []\n",
    "    startString = \"UnderlyingOptionsIntervalsCalcs_60sec_\" \n",
    "    endString = \".csv\"\n",
    "    oneDay = timedelta(days=1) #defines a 1day time delta so you can iterate forward one day \n",
    "    while(cDate<=endDate): \n",
    "        if not ((cDate.weekday()==5) or (cDate.weekday()==6)): #if cDate is saturday or sunday don't do the following thing ADD hol later\n",
    "            fileName = directory+startString+str(cDate.date())+endString\n",
    "            fileList.append(fileName)\n",
    "        cDate = cDate + oneDay\n",
    "    return fileList"
   ]
  },
  {
   "cell_type": "code",
   "execution_count": 4,
   "metadata": {
    "collapsed": true
   },
   "outputs": [],
   "source": [
    "class TSlist:\n",
    "    def __init__(self):\n",
    "         self.t = []\n",
    "         self.v = []\n",
    "    def getValue(self,row,col):\n",
    "        if(col==0):\n",
    "            return self.t[row]\n",
    "        if(col==1):\n",
    "            return self.v[row]\n",
    "    def gett(self):\n",
    "        return self.t\n",
    "    def getv(self):\n",
    "        return self.v\n",
    "    \n",
    "    def setCell(self,row,col,newValue):\n",
    "        if(col==0):\n",
    "            self.t[row] = self.v\n",
    "        if(col==1):\n",
    "            self.v[row] = newValue \n",
    "    def appendTS(self,tValue,vValue):\n",
    "        self.t.append(tValue)\n",
    "        self.v.append(vValue)\n",
    "    def makeNParray(self):\n",
    "        return np.array([self.t,self.v]).transpose() \n",
    "        \n",
    "class Indicator: \n",
    "    def __init__(self):\n",
    "        self.stockData = TSlist()\n",
    "        self.endOfFile = False \n",
    "    def getMA(self,minBack):\n",
    "        movAvg = np.ndarray([len(self.stockData.getv()),2])\n",
    "        for i in range(0,len(self.stockData.getv())):\n",
    "            movAvg[i][0] = self.stockData.getValue(i,0)\n",
    "            if i<minBack:\n",
    "                movAvg[i][1] = 0\n",
    "            else:\n",
    "                total = 0 \n",
    "                for j in range(0,minBack):\n",
    "                    total = total+self.stockData.getValue(i-j,1)\n",
    "                movAvg[i][1] = (total+0.0)/(minBack+0.0)\n",
    "        return movAvg\n",
    "    \n",
    "    def updateStockData(self,newQuote):\n",
    "        self.i = self.i+1 \n",
    "        self.stockData.appendTS(newQuote[0],newQuote[1])\n",
    "               \n",
    "class Position: \n",
    "    def __init__(self):\n",
    "        self.startTime = datetime.strptime(\"1000-1-1\",\"%Y-%m-%d\")\n",
    "        self.endTime = datetime.strptime(\"1000-1-1\",\"%Y-%m-%d\")\n",
    "        self.hashValue = \"\" \n",
    "        self.timeSeriesDF = pd.DataFrame() \n",
    "        self.quanity = 0\n",
    "    def calcProfit(self):\n",
    "        return 0 #timeSeriesDF[timeSeriesDF[\"date_time\"] == endTime][\"bid\"]-timeSeriesDF[timeSeriesDF[\"date_time\"] == startTime][\"bid\"]\n",
    "        \n",
    "    #def setStartTime(startTime):\n",
    "    #    self.startTime = startTime\n",
    "    #def setEndTime(endTime):\n",
    "    #    self.endTime = endTime \n",
    "    #def setTimeSeriesDF(timeSeriesDF):\n",
    "    #    self.timeSeriesDF = timeSeriesDF \n",
    "        "
   ]
  },
  {
   "cell_type": "code",
   "execution_count": 5,
   "metadata": {
    "collapsed": true
   },
   "outputs": [],
   "source": [
    "def dataProcessor(csvFileName,optionD,positions,indicator,csvD): #for clarity of the code this is not generalized and will only work with CBOD database \n",
    "    #this is an array of titles that corresponds to the order in the csv files \n",
    "    #for example tiles[3] returns a string root \n",
    "    #this makes the code much more readable \n",
    "    titles = ['underlying_symbol','quote_datetime','root','expiration','strike','option_type','open','high','low','close','trade_volume','bid_size','bid','ask_size','ask','underlying_bid','underlying_ask','implied_underlying_price','active_underlying_price','implied_volatility',\t'delta','gamma','theta','vega','rho','hash_value']\n",
    "\n",
    "    j = 0 \n",
    "    #this is needed for the stragegy to fuction properly \n",
    "    minList = [] #minute list \n",
    "    with open(csvFileName, 'rb') as f: #opens the \n",
    "        reader = csv.reader(f)\n",
    "        for row in reader:\n",
    "            #this processes the string and makes sure each part of the list has the correct datatype \n",
    "            if (j ==0):  #skips the first header line \n",
    "                j = 1 \n",
    "                continue \n",
    "            #sets the hashValue \n",
    "            hashValue =  row[csvD['root']]  + '|' +row[csvD['expiration']]+ '|'+row[csvD['strike']]+'|'+row[csvD['option_type']]\n",
    "            #changes the datatype of the elements in the row list \n",
    "            row[csvD['quote_datetime']] = datetime.strptime(row[csvD['quote_datetime']] ,'%Y-%m-%d %H:%M:%S') #these should be changed to datetime64 \n",
    "            row[csvD['expiration']] = datetime.strptime(row[csvD['expiration']] +' 16:15:00','%Y-%m-%d %H:%M:%S') #assumes 4:00 est close\n",
    "            for i in range(csvD['strike'],csvD['rho']+1): #turns all of the float rows into floats \n",
    "                if i != csvD['option_type']: #avoids the option time column when trying to float convert \n",
    "                    #for testing purposes \n",
    "                    #oldRow = row[i]\n",
    "                    row[i] = float(row[i])\n",
    "                    #if(i == 12 and row[i]>0): \n",
    "                        #print oldRow +\" <-old new->\" + str(row[i]) \n",
    "            row.append(hashValue) #adds the hashValue to the row list \n",
    "            \n",
    "            #this part does the stragety stuff \n",
    "            result = strategy(row,minList,csvD,indicator,True)\n",
    "            if(result is not None):\n",
    "                positions.append(result)\n",
    "            #this part adds the  option information to optionD \n",
    "            if not hashValue in optionD: #if the hashValue isn't in option D ...\n",
    "                dic = {}  #make a new dictionary \n",
    "                for title in titles:  #go through the titles array \n",
    "                    dic[title] = [row[csvD[title]]] #make a dictionary where the key is the title and the value is a list \n",
    "                                                    #where the first enitry is the value in the row under that tile \n",
    "                optionD[hashValue] = dic #store the reference to the new dictionary in the optionD dictionary \n",
    "            else:\n",
    "                dic = optionD[hashValue] #dictionary already exists, so get its reference \n",
    "                for title in titles: \n",
    "                    dic[title].append(row[csvD[title]]) #append the rows to the list \n",
    "        \n",
    "        #During the last line this is called  \n",
    "        result = strategy(row,minList,csvD,indicator,False)\n",
    "        if(result is not None):\n",
    "            positions.append(result)\n",
    "                \n",
    "    return optionD \n",
    "    "
   ]
  },
  {
   "cell_type": "code",
   "execution_count": 6,
   "metadata": {
    "collapsed": false
   },
   "outputs": [],
   "source": [
    "def strategy(row,minList,csvD,indicator,middleLine):\n",
    "    if ((len(minList)==0 or minList[-1][csvD[\"quote_datetime\"]]==row[csvD[\"quote_datetime\"]]) and middleLine):\n",
    "        print \"this was called \" + str(middleLine) +\" length of min list \" + str(len(minList))\n",
    "        minList.append(row)\n",
    "        print str(row[12]) \n",
    "        return None \n",
    "    else: \n",
    "        #return decision1(minList,csvD,indicator)\n",
    "        return decisionCalander(minList,csvD)\n",
    "        #you are at the end of a min \n",
    "        "
   ]
  },
  {
   "cell_type": "code",
   "execution_count": 7,
   "metadata": {
    "collapsed": true
   },
   "outputs": [],
   "source": [
    "def decision1(minList,csvD,indicator):\n",
    "    bestPosition = minList[0] \n",
    "    #print type(bestPosition[csvD[\"quote_datetime\"]])\n",
    "    indicator.updateStockData([bestPosition[csvD[\"quote_datetime\"]],bestPosition[csvD[\"strike\"]]])\n",
    "    #for positions in minList: \n",
    "        #if(positions[csvD[\"bid\"]]>bestPosition[csvD[\"bid\"]]):\n",
    "            #bestPosition = positions\n",
    "    minList = [] #clears minList \n",
    "    return genPositionfromRow(bestPosition,csvD)\n",
    "\n",
    "   #if(bestPosition[csvD[\"bid\"]]>0):\n",
    "    #    return genPositionfromRow(bestPosition,csvD)\n",
    "    #else:\n",
    "    #    return None "
   ]
  },
  {
   "cell_type": "code",
   "execution_count": 8,
   "metadata": {
    "collapsed": true
   },
   "outputs": [],
   "source": [
    "def decisionCalander(minList,csvD):\n",
    "    deltaRange = 10.0/100.0 \n",
    "    idealDelta = 50.0/100.0\n",
    "    goodRows = []\n",
    "    for row in minList:\n",
    "        dateTime = row[csvD[\"quote_datetime\"]]\n",
    "        timeOfClose = row[csvD[\"expiration\"]].time()\n",
    "        #print row[csvD[\"bid\"]]\n",
    "\n",
    "        if(row[csvD[\"bid\"]]>0): #makes sure bid isn't zero\n",
    "            print \"nonzero bid was found \"\n",
    "            if(dateTime.weekday()==4): #is Friday\n",
    "                if(dateTime.time() == timeofClose): #it is the time of the close \n",
    "                    if(abs(row[csvD[\"delta\"]]-idealDelta)<deltaRange): #the delta is within 50+/- 10 \n",
    "                        goodRows.add(row)\n",
    "    bestRange = deltaRange*100\n",
    "    bestRow = None\n",
    "    for row in goodRows: #find the best\n",
    "        tmpRange = abs(row[csvD[\"delta\"]]-idealDelta)\n",
    "        if(tmpRange<bestRange):\n",
    "            bestRange = tmpRange \n",
    "            bestRow = row\n",
    "    minList = []\n",
    "    if not bestRow == None:\n",
    "        newPos = genPositionfromRow(row,csvD)\n",
    "        newPos.quanity = -100 \n",
    "    else: \n",
    "        return None"
   ]
  },
  {
   "cell_type": "code",
   "execution_count": 9,
   "metadata": {
    "collapsed": false
   },
   "outputs": [],
   "source": [
    "def genPositionfromRow(row,csvD):\n",
    "    newPosition = Position()\n",
    "    newPosition.startTime = row[csvD[\"quote_datetime\"]]\n",
    "    newPosition.hashValue = row[csvD[\"hash_value\"]]\n",
    "    return newPosition "
   ]
  },
  {
   "cell_type": "markdown",
   "metadata": {
    "collapsed": false,
    "scrolled": true
   },
   "source": [
    "#### This is the main function for this program. The following block of code takes a while to run"
   ]
  },
  {
   "cell_type": "code",
   "execution_count": null,
   "metadata": {
    "collapsed": false,
    "scrolled": true
   },
   "outputs": [
    {
     "name": "stdout",
     "output_type": "stream",
     "text": [
      "this was called True length of min list 0\n",
      "0.0\n"
     ]
    }
   ],
   "source": [
    "#this is the \"main\" method for extracting and processing the data \n",
    "\n",
    "csvD = getcsvD()\n",
    "startDate = datetime.strptime(\"2009-03-09\",\"%Y-%m-%d\")\n",
    "endDate = datetime.strptime(\"2009-03-13\",\"%Y-%m-%d\")\n",
    "directory = \"C:/data/\"\n",
    "fileList = makeFileList(startDate,endDate,directory)\n",
    "positions = []\n",
    "#csvFileName = 'C:/data/UnderlyingOptionsIntervalsCalcs_60sec_2009-03-02.csv'\n",
    "optionD = {} #this is dictionary of all of the different options. Give a hash function, get an option time series \n",
    "indicator = Indicator()\n",
    "#overrides filelist to speedup code for testing purposes \n",
    "fileList = [\"C:/data/newTest.csv\"]\n",
    "for csvFileNames in fileList: \n",
    "    optionD = dataProcessor(csvFileNames,optionD,positions,indicator,csvD)\n",
    "    "
   ]
  },
  {
   "cell_type": "code",
   "execution_count": null,
   "metadata": {
    "collapsed": false
   },
   "outputs": [],
   "source": [
    "optionPD = {} #creates a new dictionary of all of the options as a Pandas Dataframe \n",
    "nonZeroList = []\n",
    "for key in optionD: \n",
    "    tmp = pd.DataFrame(optionD[key]) #turns the dictionaries into a pandas dataframe\n",
    "    optionPD[key] = tmp \n",
    "    #if(tmp[\"bid\"].mean()>100): #this is an efficent way to generate a list of the options you want\n",
    "    nonZeroList.append(key)\n"
   ]
  },
  {
   "cell_type": "code",
   "execution_count": null,
   "metadata": {
    "collapsed": false,
    "scrolled": true
   },
   "outputs": [],
   "source": [
    "print positions[0].hashValue\n",
    "#positions[0].hashValue = \"test\"\n",
    "#print positions[0].hashValue "
   ]
  },
  {
   "cell_type": "code",
   "execution_count": null,
   "metadata": {
    "collapsed": false,
    "scrolled": false
   },
   "outputs": [],
   "source": [
    "#this code iterates through all of the positions in the list positions and then adds the pandas dataframe them \n",
    "#temporary sets exit to final \n",
    "i = 0\n",
    "for position in positions: \n",
    "    i = i +1 \n",
    "    if (i%1123 ==0):\n",
    "        print position.hashValue\n",
    "    position.timeSeriesDF = optionPD[position.hashValue]\n",
    "    position.endTime = datetime.strptime('2009-03-10 16:15:00','%Y-%m-%d %H:%M:%S') #abrtryly sets to end of day CHANGE\n",
    "    #finalHashValue = position.hashValue "
   ]
  },
  {
   "cell_type": "code",
   "execution_count": null,
   "metadata": {
    "collapsed": true
   },
   "outputs": [],
   "source": [
    "#TO DO: determine when to exit position "
   ]
  },
  {
   "cell_type": "code",
   "execution_count": null,
   "metadata": {
    "collapsed": false
   },
   "outputs": [],
   "source": [
    "#caclulates profit \n",
    "profit = 0 \n",
    "for position in positions: \n",
    "    profit = profit + position.calcProfit()\n",
    "print profit "
   ]
  },
  {
   "cell_type": "code",
   "execution_count": null,
   "metadata": {
    "collapsed": false,
    "scrolled": true
   },
   "outputs": [],
   "source": [
    "%matplotlib inline\n",
    "for keys in nonZeroList: \n",
    "    tempPD = optionPD[keys] #stores some option PD in tempPD\n",
    "    plt.plot(tempPD[\"quote_datetime\"],tempPD[\"bid\"])"
   ]
  },
  {
   "cell_type": "raw",
   "metadata": {
    "collapsed": false
   },
   "source": [
    "#scrap code \n",
    "with open(\"C:/data/filelist.txt\") as f: \n",
    "    content = f.readlines()\n",
    "fileList = [x.strip() for x in content]\n",
    "\n",
    "#this goes through all of the files in the list and \n",
    "with open(\"C:/data/filelist.txt\") as f: \n",
    "    allWords = f.readlines() \n",
    "content = [x.strip() for x in allWords]\n",
    "print content \n",
    "\n",
    "\n",
    "with open(\"C:/data/filelist.txt\") as f: \n",
    "    allWords = f.readlines() \n",
    "content = [x.strip() for x in allWords]\n",
    "print content \n",
    "\n",
    "optionD = {} \n",
    "for index, row in data.iterrows(): \n",
    "    if not row['hash'] in optionD:\n",
    "        stack = []\n",
    "        stack.append(row)\n",
    "        optionD[row['hash']]=stack        \n",
    "    else:\n",
    "        stack = optionD[row['hash']]\n",
    "        stack.append(row)\n",
    "        lastRow = row \n",
    "otherData = data[data[\"bid\"]>0]\n",
    "otherData.sort_values([\"expiration\"],ascending=[True]).head()\n",
    "\n",
    "#generate time seris \n",
    "def getTimeSeries(pdRowList,yValue):\n",
    "    time = []\n",
    "    price = []\n",
    "    for item in pdRowList:\n",
    "        time.append(item['quote_datetime'])\n",
    "        price.append(item[yValue])\n",
    "    return {'time':time,'y':price} \n",
    "\n",
    "#uses the get Time series function to get the time and plot it versus the datetime \n",
    "ts = getTimeSeries(optionD[\"RQQ|2009-03-31|131.0|P\"],'underlying_ask')\n",
    "t = ts['time']\n",
    "y = ts['y']\n",
    "plt.plot(t,y)\n",
    "\n",
    "\n",
    "#this just plots a lot of things. It doesn't work that well \n",
    "i = 0 \n",
    "for key in optionD: \n",
    "    i = i + 1 \n",
    "    ts = getTimeSeries(optionD[key],'theta')\n",
    "    t = ts['time']\n",
    "    y = ts['y']\n",
    "    if((i%37==0) and (optionD[key][1]['option_type'] ==\"C\") and (optionD[key][1]['bid']>0)):\n",
    "        plt.plot(t,y) "
   ]
  },
  {
   "cell_type": "raw",
   "metadata": {
    "collapsed": false
   },
   "source": [
    "#testing functions for makeFileList function \n",
    "startDate = datetime.strptime(\"2009-03-04\",\"%Y-%m-%d\")\n",
    "endDate = datetime.strptime(\"2009-03-31\",\"%Y-%m-%d\")\n",
    "newList = makeFileList(startDate,endDate,\"C:/data/\")\n",
    "\n",
    "print \" ------------------------------------------\"\n",
    "\n",
    "print newList"
   ]
  },
  {
   "cell_type": "raw",
   "metadata": {
    "collapsed": false
   },
   "source": [
    "#testing getPositionfromRow\n",
    "row = ['SPY',\n",
    "    '2009-03-10 16:15:00',\n",
    "     'OBV',\n",
    "     '2011-12-17',\n",
    "     '210.000',\n",
    "     'P',\n",
    "     '0.0000',\n",
    "     '0.0000',\n",
    "     '0.0000',\n",
    "     '0.0000',\n",
    "     '0',\n",
    "     '30',\n",
    "     '137.4500',\n",
    "     '178',\n",
    "     '139.0000',\n",
    "     '72.2100',\n",
    "     '72.2200',\n",
    "     '67.3706',\n",
    "     '72.1100',\n",
    "     '0.4622',\n",
    "     '-0.8064',\n",
    "     '0.0041',\n",
    "     '-0.0017',\n",
    "     '0.2721',\n",
    "     '-539.3334','test']\n",
    "\n",
    "newPos = genPositionfromRow(row,getcsvD())\n",
    "#print newPos.hashValue\n",
    "#print row[24]\n",
    "titles = ['underlying_symbol','quote_datetime','root','expiration','strike','option_type','open','high','low','close','trade_volume','bid_size','bid','ask_size','ask','underlying_bid','underlying_ask','implied_underlying_price','active_underlying_price','implied_volatility' ,'delta','gamma','theta','vega','rho','hash_value']\n",
    "\n",
    "#for i in range(0,24):\n",
    "    #print titles[i]\n",
    "    #print row[i]\n",
    "#getcsvD()"
   ]
  },
  {
   "cell_type": "code",
   "execution_count": null,
   "metadata": {
    "collapsed": true
   },
   "outputs": [],
   "source": []
  }
 ],
 "metadata": {
  "anaconda-cloud": {},
  "celltoolbar": "Raw Cell Format",
  "kernelspec": {
   "display_name": "Python [default]",
   "language": "python",
   "name": "python2"
  },
  "language_info": {
   "codemirror_mode": {
    "name": "ipython",
    "version": 2
   },
   "file_extension": ".py",
   "mimetype": "text/x-python",
   "name": "python",
   "nbconvert_exporter": "python",
   "pygments_lexer": "ipython2",
   "version": "2.7.12"
  }
 },
 "nbformat": 4,
 "nbformat_minor": 1
}
