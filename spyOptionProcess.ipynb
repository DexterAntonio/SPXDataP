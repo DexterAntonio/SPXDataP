{
 "cells": [
  {
   "cell_type": "markdown",
   "metadata": {
    "collapsed": true
   },
   "source": [
    "# This imports CSV data from CBOE and then processes it "
   ]
  },
  {
   "cell_type": "code",
   "execution_count": 1,
   "metadata": {
    "collapsed": true
   },
   "outputs": [],
   "source": [
    "import pandas as pd \n",
    "import numpy as np\n",
    "import matplotlib.pyplot as plt\n",
    "import csv\n",
    "from datetime import datetime\n",
    "from datetime import timedelta"
   ]
  },
  {
   "cell_type": "raw",
   "metadata": {
    "collapsed": false,
    "raw_mimetype": "text/html",
    "scrolled": true
   },
   "source": [
    "#titles = ['underlying_symbol','quote_datetime','root','expiration','strike','option_type','open','high','low','close','trade_volume','bid_size','bid','ask_size','ask','underlying_bid','underlying_ask','implied_underlying_price','active_underlying_price','implied_volatility\tdelta','gamma','theta','vega','rho']"
   ]
  },
  {
   "cell_type": "code",
   "execution_count": 2,
   "metadata": {
    "collapsed": true
   },
   "outputs": [],
   "source": [
    "def getcsvD():\n",
    "    titles = ['underlying_symbol','quote_datetime','root','expiration','strike','option_type','open','high','low','close','trade_volume','bid_size','bid','ask_size','ask','underlying_bid','underlying_ask','implied_underlying_price','active_underlying_price','implied_volatility',\t'delta','gamma','theta','vega','rho','hash_value']\n",
    "    i  = 0 \n",
    "    csvD = {} #csvDictionary give it a column name and it returns its index \n",
    "    for i in range(0, len(titles)): \n",
    "        csvD[titles[i]] = i \n",
    "    return csvD "
   ]
  },
  {
   "cell_type": "code",
   "execution_count": 3,
   "metadata": {
    "collapsed": false
   },
   "outputs": [],
   "source": [
    "def genPositionfromRow(row,csvD):\n",
    "    newPosition = Position()\n",
    "    newPosition.startTime = row[csvD[\"quote_datetime\"]]\n",
    "    newPosition.hashValue = row[csvD[\"hash_value\"]]\n",
    "    return newPosition "
   ]
  },
  {
   "cell_type": "code",
   "execution_count": 4,
   "metadata": {
    "collapsed": false
   },
   "outputs": [],
   "source": [
    "#Does not account for market holidays \n",
    "def makeFileList(startDate,endDate,directory):\n",
    "    cDate = startDate \n",
    "    fileList = []\n",
    "    startString = \"UnderlyingOptionsIntervalsCalcs_60sec_\" \n",
    "    endString = \".csv\"\n",
    "    oneDay = timedelta(days=1) #defines a 1day time delta so you can iterate forward one day \n",
    "    while(cDate<=endDate): \n",
    "        if not ((cDate.weekday()==5) or (cDate.weekday()==6)): #if cDate is saturday or sunday don't do the following thing ADD hol later\n",
    "            fileName = directory+startString+str(cDate.date())+endString\n",
    "            fileList.append(fileName)\n",
    "        cDate = cDate + oneDay\n",
    "    return fileList"
   ]
  },
  {
   "cell_type": "code",
   "execution_count": 5,
   "metadata": {
    "collapsed": false
   },
   "outputs": [],
   "source": [
    "class TSlist:\n",
    "    def __init__(self):\n",
    "         self.t = []\n",
    "         self.v = []\n",
    "    def getValue(self,row,col):\n",
    "        if(col==0):\n",
    "            return self.t[row]\n",
    "        if(col==1):\n",
    "            return self.v[row]\n",
    "    def gett(self):\n",
    "        return self.t\n",
    "    def getv(self):\n",
    "        return self.v\n",
    "    \n",
    "    def setCell(self,row,col,newValue):\n",
    "        if(col==0):\n",
    "            self.t[row] = self.v\n",
    "        if(col==1):\n",
    "            self.v[row] = newValue \n",
    "    def appendTS(self,tValue,vValue):\n",
    "        self.t.append(tValue)\n",
    "        self.v.append(vValue)\n",
    "    def makeNParray(self):\n",
    "        return np.array([self.t,self.v]).transpose() \n",
    "        \n",
    "class Indicator: \n",
    "    def __init__(self):\n",
    "        self.stockData = TSlist()\n",
    "        self.endOfFile = False \n",
    "    def getMA(self,minBack):\n",
    "        movAvg = np.ndarray([len(self.stockData.getv()),2])\n",
    "        for i in range(0,len(self.stockData.getv())):\n",
    "            movAvg[i][0] = self.stockData.getValue(i,0)\n",
    "            if i<minBack:\n",
    "                movAvg[i][1] = 0\n",
    "            else:\n",
    "                total = 0 \n",
    "                for j in range(0,minBack):\n",
    "                    total = total+self.stockData.getValue(i-j,1)\n",
    "                movAvg[i][1] = (total+0.0)/(minBack+0.0)\n",
    "        return movAvg\n",
    "    \n",
    "    def updateStockData(self,newQuote):\n",
    "        self.i = self.i+1 \n",
    "        self.stockData.appendTS(newQuote[0],newQuote[1])\n",
    "               \n",
    "class Position: \n",
    "    def __init__(self):\n",
    "        self.startTime = None #datetime.strptime(\"1000-1-1\",\"%Y-%m-%d\")\n",
    "        self.endTime = None #datetime.strptime(\"1000-1-1\",\"%Y-%m-%d\")\n",
    "        self.hashValue = \"\" \n",
    "        self.timeSeriesDF = pd.DataFrame() \n",
    "        self.quanity = 0\n",
    "    def calcProfit(self):\n",
    "        if not (pd.DataFrame(self.timeSeriesDF[\"quote_datetime\"]==pd.Timestamp(self.endTime)).sum()[0] and pd.DataFrame(self.timeSeriesDF[\"quote_datetime\"]==pd.Timestamp(self.startTime)).sum()[0]):\n",
    "            return 0 #hopefully this will fix things \n",
    "        return self.quanity*(self.timeSeriesDF[self.timeSeriesDF[\"quote_datetime\"] == pd.Timestamp(self.endTime)][\"bid\"].iloc[0] -self.timeSeriesDF[self.timeSeriesDF[\"quote_datetime\"] == pd.Timestamp(self.startTime)][\"bid\"].iloc[0])\n",
    "    def setExit(self,exitTime):\n",
    "        if(pd.DataFrame(self.timeSeriesDF[\"quote_datetime\"]==pd.Timestamp(exitTime)).sum()[0]):\n",
    "            self.endTime = exitTime \n",
    "    #def setStartTime(startTime):\n",
    "    #    self.startTime = startTime\n",
    "    #def setEndTime(endTime):\n",
    "    #    self.endTime = endTime \n",
    "    #def setTimeSeriesDF(timeSeriesDF):\n",
    "    #    self.timeSeriesDF = timeSeriesDF \n",
    "class CalPosition:\n",
    "    def __init__(self,posLong,posShort):\n",
    "        self.posLong = posLong\n",
    "        self.posShort = posShort\n",
    "        self.dateTimeD = {}\n",
    "        #generates np array very inefficently\n",
    "        tmpDictionary = self.posShort.timeSeriesDF.to_dict('list')  #might be a more efficent way to work with this.... \n",
    "        dateTimeList = tmpDictionary[\"quote_datetime\"]\n",
    "        \n",
    "        self.profitArray = np.zeros([len(dateTimeList),2])\n",
    "        i =0 \n",
    "        for dt in dateTimeList:\n",
    "            posLong.endTime = dt \n",
    "            posShort.endTime = dt \n",
    "            self.profitArray[i,0] = i #str(dt) \n",
    "            self.dateTimeD[i] = dt\n",
    "            self.profitArray[i,1] = self.calcProfit()\n",
    "            i = i + 1 \n",
    "    def setExit(self,exit):\n",
    "        self.posLong.setExit(exit)\n",
    "        self.posShort.setExit(exit)\n",
    "    def calcProfit(self):\n",
    "        return self.posLong.calcProfit() + self.posShort.calcProfit()\n",
    "    "
   ]
  },
  {
   "cell_type": "code",
   "execution_count": 6,
   "metadata": {
    "collapsed": true
   },
   "outputs": [],
   "source": [
    "def dataProcessor(csvFileName,optionD,positions,indicator,csvD): #for clarity of the code this is not generalized and will only work with CBOD database \n",
    "    #this is an array of titles that corresponds to the order in the csv files \n",
    "    #for example tiles[3] returns a string root \n",
    "    #this makes the code much more readable \n",
    "    \n",
    "    newOptionD = optionD.copy() \n",
    "\n",
    "    titles = ['underlying_symbol','quote_datetime','root','expiration','strike','option_type','open','high','low','close','trade_volume','bid_size','bid','ask_size','ask','underlying_bid','underlying_ask','implied_underlying_price','active_underlying_price','implied_volatility',\t'delta','gamma','theta','vega','rho','hash_value']\n",
    "\n",
    "    j = 0 \n",
    "    #this is needed for the stragegy to fuction properly \n",
    "    minList = [] #minute list \n",
    "    with open(csvFileName, 'rb') as f: #opens the \n",
    "        reader = csv.reader(f)\n",
    "        for row in reader:\n",
    "            #this processes the string and makes sure each part of the list has the correct datatype \n",
    "            if (j ==0):  #skips the first header line \n",
    "                j = 1 \n",
    "                continue \n",
    "            #sets the hashValue \n",
    "            hashValue =  row[csvD['root']]  + '|' +row[csvD['expiration']]+ '|'+row[csvD['strike']]+'|'+row[csvD['option_type']]\n",
    "            #changes the datatype of the elements in the row list \n",
    "            row[csvD['quote_datetime']] = datetime.strptime(row[csvD['quote_datetime']] ,'%Y-%m-%d %H:%M:%S') #these should be changed to datetime64 \n",
    "            row[csvD['expiration']] = datetime.strptime(row[csvD['expiration']] +' 16:15:00','%Y-%m-%d %H:%M:%S') #assumes 4:00 est close\n",
    "            for i in range(csvD['strike'],csvD['rho']+1): #turns all of the float rows into floats \n",
    "                if i != csvD['option_type']: #avoids the option time column when trying to float convert \n",
    "                    #for testing purposes \n",
    "                    #oldRow = row[i]\n",
    "                    row[i] = float(row[i])\n",
    "                    #if(i == 12 and row[i]>0): \n",
    "                        #print oldRow +\" <-old new->\" + str(row[i]) \n",
    "            row.append(hashValue) #adds the hashValue to the row list \n",
    "            \n",
    "            #this part does the stragety stuff \n",
    "            result = strategy(row,minList,csvD,indicator,True)\n",
    "            if(result is not None):\n",
    "                positions.append(result)\n",
    "            #this part adds the  option information to optionD \n",
    "            if not hashValue in optionD: #if the hashValue isn't in option D ...\n",
    "                dic = {}  #make a new dictionary \n",
    "                for title in titles:  #go through the titles array \n",
    "                    dic[title] = [row[csvD[title]]] #make a dictionary where the key is the title and the value is a list \n",
    "                                                    #where the first enitry is the value in the row under that tile \n",
    "                optionD[hashValue] = dic #store the reference to the new dictionary in the optionD dictionary \n",
    "            else:\n",
    "                dic = optionD[hashValue] #dictionary already exists, so get its reference \n",
    "                for title in titles: \n",
    "                    dic[title].append(row[csvD[title]]) #append the rows to the list \n",
    "        \n",
    "        #During the last line this is called  \n",
    "        result = strategy(row,minList,csvD,indicator,False)\n",
    "        if(result is not None):\n",
    "            if result not in positions: \n",
    "                positions.append(result)\n",
    "    #this line only stores the useful positions in optionD speading up code \n",
    "    for p in positions: \n",
    "        newOptionD[p.hashValue]=optionD[p.hashValue]\n",
    "    optionD = newOptionD \n",
    "    return optionD \n",
    "    "
   ]
  },
  {
   "cell_type": "code",
   "execution_count": 7,
   "metadata": {
    "collapsed": false
   },
   "outputs": [],
   "source": [
    "def strategy(row,minList,csvD,indicator,middleLine):\n",
    "    #if ((len(minList)==0 or minList[-1][csvD[\"quote_datetime\"]]==row[csvD[\"quote_datetime\"]]) and middleLine):\n",
    "    # print \"this was called \" + str(middleLine) +\" length of min list \" + str(len(minList))\n",
    "    #minList.append(row)\n",
    "#        return None \n",
    "#    else: \n",
    "        #return decision1(minList,csvD,indicator)\n",
    "    return decisionCalander(row,csvD)\n",
    "        #you are at the end of a min \n",
    "        "
   ]
  },
  {
   "cell_type": "code",
   "execution_count": 8,
   "metadata": {
    "collapsed": true
   },
   "outputs": [],
   "source": [
    "#not currently in use\n",
    "def decision1(row,csvD,indicator):\n",
    "    bestPosition = row \n",
    "    #print type(bestPosition[csvD[\"quote_datetime\"]])\n",
    "    indicator.updateStockData([bestPosition[csvD[\"quote_datetime\"]],bestPosition[csvD[\"strike\"]]])\n",
    "    #for positions in minList: \n",
    "        #if(positions[csvD[\"bid\"]]>bestPosition[csvD[\"bid\"]]):\n",
    "            #bestPosition = positions\n",
    "    minList = [] #clears minList f\n",
    "    return genPositionfromRow(bestPosition,csvD)\n",
    "\n",
    "   #if(bestPosition[csvD[\"bid\"]]>0):\n",
    "    #    return genPositionfromRow(bestPosition,csvD)\n",
    "    #else:\n",
    "    #    return None "
   ]
  },
  {
   "cell_type": "code",
   "execution_count": 9,
   "metadata": {
    "collapsed": false
   },
   "outputs": [],
   "source": [
    "def decisionCalander(row,csvD):\n",
    "    decision = None \n",
    "    decision = decisionSell(row,csvD)\n",
    "    if (decision == None): \n",
    "        decision = decisionBuy(row,csvD)\n",
    "    return decision "
   ]
  },
  {
   "cell_type": "code",
   "execution_count": 10,
   "metadata": {
    "collapsed": false
   },
   "outputs": [],
   "source": [
    "def decisionSell(row,csvD): #the minlist is some left over functionality that should be removed later\n",
    "    deltaRange = 1.0/100.0 \n",
    "    idealDelta = -50.0/100.0\n",
    "    timeFudgeRange = timedelta(minutes=15) #change for testing purposes \n",
    "    timeOfClose = row[csvD['expiration']].time()\n",
    "    dateTime = row[csvD[\"quote_datetime\"]]\n",
    "    timeOfClose = row[csvD[\"expiration\"]]\n",
    "    fiveWeeks = timedelta(weeks=5)\n",
    "                           \n",
    "    #tmpInterval = datetime.strptime(str(dateTime.time()),\"%H:%M:%S\") - datetime.strptime(str(timeOfClose.time()),\"%H:%M:%S\")\n",
    "    #if((tmpInterval)<tmpDelta): #it is the time of the close (not needed right now)\n",
    "\n",
    "    \n",
    "    if(abs(row[csvD[\"expiration\"]]-fiveWeeks-row[csvD[\"quote_datetime\"]])<timeFudgeRange): #if quote_datetime around close and expiration 3 weeks out\n",
    "        if(dateTime.weekday()==4): #is Friday\n",
    "            if(row[csvD[\"option_type\"]]== \"P\"): #if option is a put\n",
    "                if(row[csvD[\"bid\"]]>0): #makes sure bid isn't zero\n",
    "                    #print row[csvD[\"delta\"]]\n",
    "                    #print \"differience = \" + str(row[csvD[\"delta\"]]-idealDelta)\n",
    "                    if(abs(row[csvD[\"delta\"]]-idealDelta)<deltaRange): #the delta is within 50+/- 100 basically broken for testing\n",
    "                        newPos = genPositionfromRow(row,csvD) \n",
    "                        newPos.quanity = -100 #sells 100 \n",
    "                        return newPos\n",
    "\n",
    "\n",
    "    return None "
   ]
  },
  {
   "cell_type": "code",
   "execution_count": 11,
   "metadata": {
    "collapsed": true
   },
   "outputs": [],
   "source": [
    "def decisionBuy(row,csvD):\n",
    "    timeFudgeRange = timedelta(minutes=15) #change for testing purposes \n",
    "    timeOfClose = row[csvD['expiration']].time()\n",
    "    dateTime = row[csvD[\"quote_datetime\"]]\n",
    "    timeOfClose = row[csvD[\"expiration\"]]\n",
    "    threeWeeks = timedelta(weeks=3)\n",
    "    if(abs(row[csvD[\"expiration\"]]-threeWeeks-row[csvD[\"quote_datetime\"]])<timeFudgeRange):\n",
    "        if(dateTime.weekday()==4): #is Friday\n",
    "            if(row[csvD[\"option_type\"]]== \"P\"): #if option is a put \n",
    "                if(row[csvD[\"bid\"]]>0): #makes sure bid isn't zero\n",
    "                        newPos = genPositionfromRow(row,csvD) \n",
    "                        newPos.quanity = 100 #buy 100 \n",
    "                        return newPos\n",
    "    return None "
   ]
  },
  {
   "cell_type": "code",
   "execution_count": 12,
   "metadata": {
    "collapsed": false
   },
   "outputs": [],
   "source": [
    "def getCalPositions(positions): \n",
    "    shorts = []\n",
    "    longs = []\n",
    "    calPositions = []\n",
    "    for p in positions:\n",
    "        if p.quanity > 0 : \n",
    "            longs.append(p)\n",
    "        else:\n",
    "            shorts.append(p)\n",
    "    \n",
    "    for l in longs: \n",
    "        for s in shorts:\n",
    "            if(abs(l.timeSeriesDF[\"strike\"].iloc[0]-s.timeSeriesDF[\"strike\"].iloc[0])<1): #should garantee a match for long pos\n",
    "                newCal = CalPosition(l,s)\n",
    "                calPositions.append(newCal)\n",
    "                shorts.remove(s)\n",
    "                break;\n",
    "           \n",
    "    \n",
    "   \n",
    "    return calPositions \n",
    "#getCalPositions(positions)"
   ]
  },
  {
   "cell_type": "markdown",
   "metadata": {
    "collapsed": false,
    "scrolled": true
   },
   "source": [
    "#### This is the main function for this program. The following block of code takes a while to run"
   ]
  },
  {
   "cell_type": "code",
   "execution_count": 13,
   "metadata": {
    "collapsed": false,
    "scrolled": false
   },
   "outputs": [],
   "source": [
    "#this is the \"main\" method for extracting and processing the data \n",
    "#example csvFileName = 'C:/data/UnderlyingOptionsIntervalsCalcs_60sec_2009-03-02.csv'\n",
    "\n",
    "csvD = getcsvD()\n",
    "startDate = datetime.strptime(\"2009-03-20\",\"%Y-%m-%d\") #inclusive \n",
    "endDate = datetime.strptime(\"2009-03-26\",\"%Y-%m-%d\") #inclusive \n",
    "directory = \"C:/data/\"\n",
    "fileList = makeFileList(startDate,endDate,directory)\n",
    "positions = []\n",
    "optionD = {} #this is dictionary of all of the different options. Give a hash function, get an option time series \n",
    "indicator = Indicator()\n",
    "#overrides filelist to speedup code for testing purposes \n",
    "#fileList = [\"C:/data/newTest.csv\"]\n",
    "for csvFileNames in fileList: \n",
    "    optionD = dataProcessor(csvFileNames,optionD,positions,indicator,csvD)"
   ]
  },
  {
   "cell_type": "code",
   "execution_count": 14,
   "metadata": {
    "collapsed": false
   },
   "outputs": [],
   "source": [
    "#this creates optionPD from optionD \n",
    "optionPD = {} #creates a new dictionary of all of the options as a Pandas Dataframe \n",
    "nonZeroList = []\n",
    "for key in optionD: \n",
    "    tmp = pd.DataFrame(optionD[key]) #turns the dictionaries into a pandas dataframe\n",
    "    optionPD[key] = tmp \n",
    "    nonZeroList.append(key)\n"
   ]
  },
  {
   "cell_type": "code",
   "execution_count": 15,
   "metadata": {
    "collapsed": false
   },
   "outputs": [
    {
     "name": "stdout",
     "output_type": "stream",
     "text": [
      "0\n"
     ]
    }
   ],
   "source": [
    "print len(positions)"
   ]
  },
  {
   "cell_type": "code",
   "execution_count": 16,
   "metadata": {
    "collapsed": false,
    "scrolled": false
   },
   "outputs": [],
   "source": [
    "#this code iterates through all of the positions in the list positions and then adds the pandas dataframe them \n",
    "#temporary sets exit to final position in dataframe \n",
    "for position in positions: \n",
    "    position.timeSeriesDF = optionPD[position.hashValue]\n",
    "    tmp = position.timeSeriesDF[\"quote_datetime\"]\n",
    "    position.endTime =tmp[len(tmp)-1] #datetime.strptime('2009-03-10 16:15:00','%Y-%m-%d %H:%M:%S') #abrtryly sets to end of day CHANGE\n"
   ]
  },
  {
   "cell_type": "code",
   "execution_count": 17,
   "metadata": {
    "collapsed": false
   },
   "outputs": [],
   "source": [
    "#Determines exit positon \n",
    "calPos = getCalPositions(positions)\n",
    "for calP in calPos:\n",
    "    exitSet = False \n",
    "    for i in range(0,len(calP.profitArray)):\n",
    "        if(calP.profitArray[i,1]<-3000 and not exitSet):\n",
    "            calP.setExit(calP.dateTimeD[i]) #should check if before enitry too\n",
    "            exitSet = True \n",
    "    if not exitSet:\n",
    "        calP.setExit(calP.dateTimeD[len(calP.profitArray)-1])  "
   ]
  },
  {
   "cell_type": "code",
   "execution_count": 18,
   "metadata": {
    "collapsed": false
   },
   "outputs": [
    {
     "name": "stdout",
     "output_type": "stream",
     "text": [
      "0\n",
      "0\n"
     ]
    }
   ],
   "source": [
    "#caclulates profit \n",
    "profit = 0 \n",
    "posProfit = []\n",
    "print len(calPos)\n",
    "i = 0\n",
    "for cal in calPos: \n",
    "    tmpProfit = cal.calcProfit() \n",
    "    posProfit.append(tmpProfit)\n",
    "    if(tmpProfit>10):\n",
    "        print [i, tmpProfit]\n",
    "    profit = profit + tmpProfit \n",
    "    i = i + 1 \n",
    "print profit \n",
    "#print profit/(len(calPos)+0.0)\n",
    "    #posProfit.append(tmpProfit)\n",
    "#print len(calPos)\n",
    "#profitArray = np.array(posProfit)\n",
    "#print \"avg is \" + str(profitArray.mean())\n",
    "#print \"std is \" + str(profitArray.std())\n",
    "#print profit "
   ]
  },
  {
   "cell_type": "code",
   "execution_count": 19,
   "metadata": {
    "collapsed": false
   },
   "outputs": [
    {
     "ename": "IndexError",
     "evalue": "list index out of range",
     "output_type": "error",
     "traceback": [
      "\u001b[0;31m---------------------------------------------------------------------------\u001b[0m",
      "\u001b[0;31mIndexError\u001b[0m                                Traceback (most recent call last)",
      "\u001b[0;32m<ipython-input-19-b332770b4f99>\u001b[0m in \u001b[0;36m<module>\u001b[0;34m()\u001b[0m\n\u001b[1;32m      5\u001b[0m \u001b[0mdateList\u001b[0m \u001b[1;33m=\u001b[0m \u001b[0mcal0D\u001b[0m\u001b[1;33m[\u001b[0m\u001b[1;34m\"quote_datetime\"\u001b[0m\u001b[1;33m]\u001b[0m\u001b[1;33m\u001b[0m\u001b[0m\n\u001b[1;32m      6\u001b[0m \u001b[1;33m\u001b[0m\u001b[0m\n\u001b[0;32m----> 7\u001b[0;31m \u001b[0mcal0\u001b[0m \u001b[1;33m=\u001b[0m \u001b[0mcalPos\u001b[0m\u001b[1;33m[\u001b[0m\u001b[1;36m0\u001b[0m\u001b[1;33m]\u001b[0m\u001b[1;33m\u001b[0m\u001b[0m\n\u001b[0m\u001b[1;32m      8\u001b[0m \u001b[1;32mfor\u001b[0m \u001b[0mi\u001b[0m \u001b[1;32min\u001b[0m \u001b[0mrange\u001b[0m\u001b[1;33m(\u001b[0m\u001b[1;36m0\u001b[0m\u001b[1;33m,\u001b[0m\u001b[0mlen\u001b[0m\u001b[1;33m(\u001b[0m\u001b[0mcal0\u001b[0m\u001b[1;33m.\u001b[0m\u001b[0mprofitArray\u001b[0m\u001b[1;33m)\u001b[0m\u001b[1;33m)\u001b[0m\u001b[1;33m:\u001b[0m\u001b[1;33m\u001b[0m\u001b[0m\n\u001b[1;32m      9\u001b[0m     \u001b[0mdateList\u001b[0m\u001b[1;33m.\u001b[0m\u001b[0mappend\u001b[0m\u001b[1;33m(\u001b[0m\u001b[0mcal0\u001b[0m\u001b[1;33m.\u001b[0m\u001b[0mdateTimeD\u001b[0m\u001b[1;33m[\u001b[0m\u001b[0mi\u001b[0m\u001b[1;33m]\u001b[0m\u001b[1;33m)\u001b[0m\u001b[1;33m\u001b[0m\u001b[0m\n",
      "\u001b[0;31mIndexError\u001b[0m: list index out of range"
     ]
    }
   ],
   "source": [
    "cal0D = {}\n",
    "cal0D[\"profit\"] = []\n",
    "cal0D[\"quote_datetime\"] = []\n",
    "profitList = cal0D[\"profit\"]\n",
    "dateList = cal0D[\"quote_datetime\"]\n",
    "    \n",
    "cal0 = calPos[0]\n",
    "for i in range(0,len(cal0.profitArray)):\n",
    "    dateList.append(cal0.dateTimeD[i])\n",
    "    profitList.append(cal0.profitArray[i,1])\n",
    "calDF = pd.DataFrame(cal0D)\n",
    "print calDF.head()"
   ]
  },
  {
   "cell_type": "code",
   "execution_count": null,
   "metadata": {
    "collapsed": false
   },
   "outputs": [],
   "source": [
    "maxLength = 0\n",
    "maxi = 0\n",
    "lengthList = []\n",
    "posList = []\n",
    "for i in range(0,len(calPos)):\n",
    "    tmpList = [calPos[i].posLong.hashValue,calPos[i].posShort.hashValue]\n",
    "    posList.append(tmpList)\n",
    "    tmpLength = len(calPos[i].profitArray)\n",
    "    lengthList.append(tmpLength)\n",
    "    if(tmpLength>=maxLength):\n",
    "        maxLength = tmpLength\n",
    "        maxi = i \n",
    "plt.hist(lengthList)\n",
    "#print maxLength\n",
    "#print maxi\n",
    "len(calPos[0].profitArray)\n",
    "for p in posList:\n",
    "    print p\n",
    "\n"
   ]
  },
  {
   "cell_type": "code",
   "execution_count": null,
   "metadata": {
    "collapsed": false
   },
   "outputs": [],
   "source": [
    "%matplotlib inline\n",
    "calDF_list = []\n",
    "for j in range(0,len(calPos)):\n",
    "    cal0D = {}\n",
    "    cal0D[\"profit\"] = []\n",
    "    cal0D[\"quote_datetime\"] = []\n",
    "    profitList = cal0D[\"profit\"]\n",
    "    dateList = cal0D[\"quote_datetime\"]\n",
    "\n",
    "    cal0 = calPos[j]\n",
    "    for i in range(0,len(cal0.profitArray)):\n",
    "        dateList.append(cal0.dateTimeD[i])\n",
    "        profitList.append(cal0.profitArray[i,1])\n",
    "    calDF = pd.DataFrame(cal0D)\n",
    "    calDF_list.append(calDF)\n",
    "    plt.plot(calDF[\"quote_datetime\"],calDF[\"profit\"])\n",
    "    #plt.xlim[xRange]\n",
    "    #print xRange"
   ]
  },
  {
   "cell_type": "code",
   "execution_count": null,
   "metadata": {
    "collapsed": false,
    "scrolled": false
   },
   "outputs": [],
   "source": [
    "xRange = [datetime.strptime('2009-03-23 9:30:00','%Y-%m-%d %H:%M:%S'),datetime.strptime('2009-03-23 16:30:00','%Y-%m-%d %H:%M:%S')]\n",
    "\n",
    "%matplotlib inline\n",
    "plt.plot(calDF_list[55][\"quote_datetime\"].date_range(xRange),calDF[\"profit\"].date_range(xRange))\n"
   ]
  },
  {
   "cell_type": "code",
   "execution_count": null,
   "metadata": {
    "collapsed": false
   },
   "outputs": [],
   "source": [
    "import pygal\n",
    "from math import cos\n",
    "xy_chart = pygal.XY()\n",
    "xy_chart.title = 'XY Cosinus'\n",
    "xy_chart.add('x = cos(y)', [(cos(x / 10.), x / 10.) for x in range(-50, 50, 5)])\n",
    "xy_chart.add('y = cos(x)', [(x / 10., cos(x / 10.)) for x in range(-50, 50, 5)])\n",
    "xy_chart.add('x = 1',  [(1, -5), (1, 5)])\n",
    "xy_chart.add('x = -1', [(-1, -5), (-1, 5)])\n",
    "xy_chart.add('y = 1',  [(-5, 1), (5, 1)])\n",
    "xy_chart.add('y = -1', [(-5, -1), (5, -1)])\n",
    "xy_chart.render()\n",
    "print \"hj\""
   ]
  },
  {
   "cell_type": "code",
   "execution_count": null,
   "metadata": {
    "collapsed": false
   },
   "outputs": [],
   "source": [
    "total = 0\n",
    "first = calPos[0]\n",
    "first.posLong = positions[0]\n",
    "print first.posLong"
   ]
  },
  {
   "cell_type": "code",
   "execution_count": null,
   "metadata": {
    "collapsed": false
   },
   "outputs": [],
   "source": [
    "print calDF[\"quote_datetime\"].max()"
   ]
  },
  {
   "cell_type": "code",
   "execution_count": null,
   "metadata": {
    "collapsed": true
   },
   "outputs": [],
   "source": []
  }
 ],
 "metadata": {
  "anaconda-cloud": {},
  "celltoolbar": "Raw Cell Format",
  "kernelspec": {
   "display_name": "Python [default]",
   "language": "python",
   "name": "python2"
  },
  "language_info": {
   "codemirror_mode": {
    "name": "ipython",
    "version": 2
   },
   "file_extension": ".py",
   "mimetype": "text/x-python",
   "name": "python",
   "nbconvert_exporter": "python",
   "pygments_lexer": "ipython2",
   "version": "2.7.12"
  }
 },
 "nbformat": 4,
 "nbformat_minor": 1
}
