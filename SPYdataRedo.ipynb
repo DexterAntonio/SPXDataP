{
 "cells": [
  {
   "cell_type": "code",
   "execution_count": 2,
   "metadata": {
    "collapsed": true
   },
   "outputs": [],
   "source": [
    "import pandas as pd \n",
    "import numpy as np\n",
    "import matplotlib.pyplot as plt\n",
    "import csv\n",
    "from datetime import datetime"
   ]
  },
  {
   "cell_type": "code",
   "execution_count": 3,
   "metadata": {
    "collapsed": false
   },
   "outputs": [],
   "source": [
    "with open(\"C:/data/filelist.txt\") as f: \n",
    "    content = f.readlines()\n",
    "fileList = [x.strip() for x in content]"
   ]
  },
  {
   "cell_type": "code",
   "execution_count": 4,
   "metadata": {
    "collapsed": false,
    "scrolled": true
   },
   "outputs": [
    {
     "data": {
      "text/plain": [
       "\"titles = ['underlying_symbol','quote_datetime','root','expiration','strike','option_type','open','high','low','close','trade_volume','bid_size','bid','ask_size','ask','underlying_bid','underlying_ask','implied_underlying_price','active_underlying_price','implied_volatility\\tdelta','gamma','theta','vega','rho']\""
      ]
     },
     "execution_count": 4,
     "metadata": {},
     "output_type": "execute_result"
    }
   ],
   "source": [
    "\"\"\"titles = ['underlying_symbol','quote_datetime','root','expiration','strike','option_type','open','high','low','close','trade_volume','bid_size','bid','ask_size','ask','underlying_bid','underlying_ask','implied_underlying_price','active_underlying_price','implied_volatility\tdelta','gamma','theta','vega','rho']\"\"\""
   ]
  },
  {
   "cell_type": "code",
   "execution_count": 15,
   "metadata": {
    "collapsed": false,
    "scrolled": true
   },
   "outputs": [],
   "source": [
    "#this is an array of titles that corresponds to the order in the csv files \n",
    "#for example tiles[3] returns a string root \n",
    "#this makes the code much more readable \n",
    "titles = ['underlying_symbol','quote_datetime','root','expiration','strike','option_type','open','high','low','close','trade_volume','bid_size','bid','ask_size','ask','underlying_bid','underlying_ask','implied_underlying_price','active_underlying_price','implied_volatility\tdelta','gamma','theta','vega','rho']\n",
    "i  = 0 \n",
    "csvD = {} #csvDictionary give it a column name and it returns its index \n",
    "optionD = {} #this is dictionary of all of the different options. Give a hash function, get an option time series \n",
    "for i in range(0, len(titles)): \n",
    "    csvD[titles[i]] = i \n",
    "j = 0 \n",
    "with open('C:/data/UnderlyingOptionsIntervalsCalcs_60sec_2009-03-02.csv', 'rb') as f:\n",
    "    reader = csv.reader(f)\n",
    "    for row in reader:\n",
    "        if (j ==0):  #skips the first header line \n",
    "            j = 1 \n",
    "            continue \n",
    "        hashValue =  row[csvD['root']]  + '|' +row[csvD['expiration']]+ '|'+row[csvD['strike']]+'|'+row[csvD['option_type']]\n",
    "        row[csvD['quote_datetime']] = datetime.strptime(row[csvD['quote_datetime']] ,'%Y-%m-%d %H:%M:%S') #these should be changed to datetime64 \n",
    "        row[csvD['expiration']] = datetime.strptime(row[csvD['expiration']] +' 16:00:00','%Y-%m-%d %H:%M:%S') #assumes 4:00 est close\n",
    "        for i in range(csvD['strike'],csvD['rho']+1): #turns all of the float rows into floats \n",
    "            if i != csvD['option_type']: #avoids the option time column when trying to float convert \n",
    "                row[i] = float(row[i])\n",
    "      \n",
    "        if not hashValue in optionD: #if the hashValue isn't in option D ...\n",
    "            dic = {}  #make a new dictionary \n",
    "            for title in titles:  #go through the titles array \n",
    "                dic[title] = [row[csvD[title]]] #make a dictionary where the key is the title and the value is a list \n",
    "                                                #where the first enitry is the value in the row under that tile \n",
    "            optionD[hashValue] = dic #store the reference to the new dictionary in the optionD dictionary \n",
    "        else:\n",
    "            dic = optionD[hashValue] #dictionary already exists, so get its reference \n",
    "            for title in titles: \n",
    "                dic[title].append(row[csvD[title]]) #append the rows to the list \n",
    "            #stack = optionD[hashValue] \n",
    "            #stack.append(row)\n",
    "        "
   ]
  },
  {
   "cell_type": "code",
   "execution_count": 18,
   "metadata": {
    "collapsed": false
   },
   "outputs": [],
   "source": [
    "optionPD = {} #creates a new dictionary of all of the options as a Pandas Dataframe \n",
    "for key in optionD: \n",
    "    optionPD[key] = pd.DataFrame(optionD[key]) #turns the dictionaries into a pandas dataframe "
   ]
  },
  {
   "cell_type": "code",
   "execution_count": 8,
   "metadata": {
    "collapsed": false,
    "scrolled": false
   },
   "outputs": [
    {
     "data": {
      "text/plain": [
       "[<matplotlib.lines.Line2D at 0x4f22c8d0>]"
      ]
     },
     "execution_count": 8,
     "metadata": {},
     "output_type": "execute_result"
    },
    {
     "data": {
      "image/png": "[encoded data removed]",
      "text/plain": [
       "<matplotlib.figure.Figure at 0x4f233208>"
      ]
     },
     "metadata": {},
     "output_type": "display_data"
    }
   ],
   "source": [
    "\n",
    "firstLine = True \n",
    "for fileName in fileList:\n",
    "    fullFileName = \"C:/data/\"+fileName.rstrip() #might only work on windows \n",
    "    if(firstLine):\n",
    "        data = pd.read_csv(fullFileName,sep=',')\n",
    "        firstLine = False \n",
    "    else: \n",
    "        newData = pd.read_csv(fullFileName,sep=',')\n",
    "        data.append(newData)\n",
    "\n",
    "#newData = open(temp,\"rb\")\n",
    "#data = pd.read_csv(csvFileName,sep=',')\n",
    "data['hash'] = data['underlying_symbol'] + '|' +data['expiration']+'|'+data['strike'].astype(str)+'|'+data['option_type']\n",
    "#data[['underlying_symbol','root','option_type']].astype(basestring)\n",
    "data['quote_datetime']= pd.to_datetime(data['quote_datetime'])\n",
    "data['expiration'] = pd.to_datetime(data['expiration'],format='%Y-%m-%d')\n",
    "%matplotlib inline\n",
    "plt.plot(data['quote_datetime'][(data['hash']==data['hash'].get(1))],data['active_underlying_price'][(data['hash']==data['hash'].get(1))])"
   ]
  },
  {
   "cell_type": "code",
   "execution_count": 9,
   "metadata": {
    "collapsed": false
   },
   "outputs": [
    {
     "name": "stdout",
     "output_type": "stream",
     "text": [
      "['UnderlyingOptionsIntervalsCalcs_60sec_2009-03-02.csv', 'UnderlyingOptionsIntervalsCalcs_60sec_2009-03-03.csv', 'UnderlyingOptionsIntervalsCalcs_60sec_2009-03-04.csv', 'UnderlyingOptionsIntervalsCalcs_60sec_2009-03-05.csv', 'UnderlyingOptionsIntervalsCalcs_60sec_2009-03-06.csv', 'UnderlyingOptionsIntervalsCalcs_60sec_2009-03-09.csv', 'UnderlyingOptionsIntervalsCalcs_60sec_2009-03-10.csv', 'UnderlyingOptionsIntervalsCalcs_60sec_2009-03-11.csv', 'UnderlyingOptionsIntervalsCalcs_60sec_2009-03-12.csv', 'UnderlyingOptionsIntervalsCalcs_60sec_2009-03-13.csv', 'UnderlyingOptionsIntervalsCalcs_60sec_2009-03-16.csv', 'UnderlyingOptionsIntervalsCalcs_60sec_2009-03-17.csv', 'UnderlyingOptionsIntervalsCalcs_60sec_2009-03-18.csv', 'UnderlyingOptionsIntervalsCalcs_60sec_2009-03-19.csv', 'UnderlyingOptionsIntervalsCalcs_60sec_2009-03-20.csv', 'UnderlyingOptionsIntervalsCalcs_60sec_2009-03-23.csv', 'UnderlyingOptionsIntervalsCalcs_60sec_2009-03-24.csv', 'UnderlyingOptionsIntervalsCalcs_60sec_2009-03-25.csv']\n"
     ]
    }
   ],
   "source": [
    "with open(\"C:/data/filelist.txt\") as f: \n",
    "    allWords = f.readlines() \n",
    "content = [x.strip() for x in allWords]\n",
    "print content "
   ]
  },
  {
   "cell_type": "markdown",
   "metadata": {},
   "source": [
    "### puts options into a hash function "
   ]
  },
  {
   "cell_type": "code",
   "execution_count": null,
   "metadata": {
    "collapsed": true
   },
   "outputs": [],
   "source": [
    "    "
   ]
  },
  {
   "cell_type": "code",
   "execution_count": 10,
   "metadata": {
    "collapsed": false
   },
   "outputs": [],
   "source": [
    "optionD = {} \n",
    "for index, row in data.iterrows(): \n",
    "    if not row['hash'] in optionD:\n",
    "        stack = []\n",
    "        stack.append(row)\n",
    "        optionD[row['hash']]=stack        \n",
    "    else:\n",
    "        stack = optionD[row['hash']]\n",
    "        stack.append(row)\n",
    "        lastRow = row "
   ]
  },
  {
   "cell_type": "code",
   "execution_count": 11,
   "metadata": {
    "collapsed": false
   },
   "outputs": [
    {
     "data": {
      "text/html": [
       "<div>\n",
       "<style>\n",
       "    .dataframe thead tr:only-child th {\n",
       "        text-align: right;\n",
       "    }\n",
       "\n",
       "    .dataframe thead th {\n",
       "        text-align: left;\n",
       "    }\n",
       "\n",
       "    .dataframe tbody tr th {\n",
       "        vertical-align: top;\n",
       "    }\n",
       "</style>\n",
       "<table border=\"1\" class=\"dataframe\">\n",
       "  <thead>\n",
       "    <tr style=\"text-align: right;\">\n",
       "      <th></th>\n",
       "      <th>underlying_symbol</th>\n",
       "      <th>quote_datetime</th>\n",
       "      <th>root</th>\n",
       "      <th>expiration</th>\n",
       "      <th>strike</th>\n",
       "      <th>option_type</th>\n",
       "      <th>open</th>\n",
       "      <th>high</th>\n",
       "      <th>low</th>\n",
       "      <th>close</th>\n",
       "      <th>...</th>\n",
       "      <th>underlying_ask</th>\n",
       "      <th>implied_underlying_price</th>\n",
       "      <th>active_underlying_price</th>\n",
       "      <th>implied_volatility</th>\n",
       "      <th>delta</th>\n",
       "      <th>gamma</th>\n",
       "      <th>theta</th>\n",
       "      <th>vega</th>\n",
       "      <th>rho</th>\n",
       "      <th>hash</th>\n",
       "    </tr>\n",
       "  </thead>\n",
       "  <tbody>\n",
       "    <tr>\n",
       "      <th>1215</th>\n",
       "      <td>SPY</td>\n",
       "      <td>2009-03-02 09:31:00</td>\n",
       "      <td>SFB</td>\n",
       "      <td>2009-03-21</td>\n",
       "      <td>130.0</td>\n",
       "      <td>P</td>\n",
       "      <td>0.0</td>\n",
       "      <td>0.0</td>\n",
       "      <td>0.0</td>\n",
       "      <td>0.0</td>\n",
       "      <td>...</td>\n",
       "      <td>72.31</td>\n",
       "      <td>0.0000</td>\n",
       "      <td>72.305</td>\n",
       "      <td>1.3962</td>\n",
       "      <td>-0.9522</td>\n",
       "      <td>0.0043</td>\n",
       "      <td>-0.0595</td>\n",
       "      <td>0.0165</td>\n",
       "      <td>-6.7094</td>\n",
       "      <td>SPY|2009-03-21|130.0|P</td>\n",
       "    </tr>\n",
       "    <tr>\n",
       "      <th>91611</th>\n",
       "      <td>SPY</td>\n",
       "      <td>2009-03-02 10:52:00</td>\n",
       "      <td>SWV</td>\n",
       "      <td>2009-03-21</td>\n",
       "      <td>68.0</td>\n",
       "      <td>C</td>\n",
       "      <td>0.0</td>\n",
       "      <td>0.0</td>\n",
       "      <td>0.0</td>\n",
       "      <td>0.0</td>\n",
       "      <td>...</td>\n",
       "      <td>71.94</td>\n",
       "      <td>71.6738</td>\n",
       "      <td>71.940</td>\n",
       "      <td>0.5239</td>\n",
       "      <td>0.6883</td>\n",
       "      <td>0.0406</td>\n",
       "      <td>-0.0696</td>\n",
       "      <td>0.0580</td>\n",
       "      <td>2.3194</td>\n",
       "      <td>SPY|2009-03-21|68.0|C</td>\n",
       "    </tr>\n",
       "    <tr>\n",
       "      <th>91610</th>\n",
       "      <td>SPY</td>\n",
       "      <td>2009-03-02 10:51:00</td>\n",
       "      <td>SWV</td>\n",
       "      <td>2009-03-21</td>\n",
       "      <td>68.0</td>\n",
       "      <td>C</td>\n",
       "      <td>0.0</td>\n",
       "      <td>0.0</td>\n",
       "      <td>0.0</td>\n",
       "      <td>0.0</td>\n",
       "      <td>...</td>\n",
       "      <td>72.01</td>\n",
       "      <td>71.7788</td>\n",
       "      <td>72.010</td>\n",
       "      <td>0.5249</td>\n",
       "      <td>0.6927</td>\n",
       "      <td>0.0402</td>\n",
       "      <td>-0.0706</td>\n",
       "      <td>0.0577</td>\n",
       "      <td>2.3344</td>\n",
       "      <td>SPY|2009-03-21|68.0|C</td>\n",
       "    </tr>\n",
       "    <tr>\n",
       "      <th>91609</th>\n",
       "      <td>SPY</td>\n",
       "      <td>2009-03-02 10:50:00</td>\n",
       "      <td>SWV</td>\n",
       "      <td>2009-03-21</td>\n",
       "      <td>68.0</td>\n",
       "      <td>C</td>\n",
       "      <td>0.0</td>\n",
       "      <td>0.0</td>\n",
       "      <td>0.0</td>\n",
       "      <td>0.0</td>\n",
       "      <td>...</td>\n",
       "      <td>72.01</td>\n",
       "      <td>71.7538</td>\n",
       "      <td>72.010</td>\n",
       "      <td>0.5274</td>\n",
       "      <td>0.6908</td>\n",
       "      <td>0.0401</td>\n",
       "      <td>-0.0703</td>\n",
       "      <td>0.0578</td>\n",
       "      <td>2.3274</td>\n",
       "      <td>SPY|2009-03-21|68.0|C</td>\n",
       "    </tr>\n",
       "    <tr>\n",
       "      <th>91608</th>\n",
       "      <td>SPY</td>\n",
       "      <td>2009-03-02 10:49:00</td>\n",
       "      <td>SWV</td>\n",
       "      <td>2009-03-21</td>\n",
       "      <td>68.0</td>\n",
       "      <td>C</td>\n",
       "      <td>0.0</td>\n",
       "      <td>0.0</td>\n",
       "      <td>0.0</td>\n",
       "      <td>0.0</td>\n",
       "      <td>...</td>\n",
       "      <td>72.08</td>\n",
       "      <td>71.8238</td>\n",
       "      <td>72.080</td>\n",
       "      <td>0.5276</td>\n",
       "      <td>0.6935</td>\n",
       "      <td>0.0399</td>\n",
       "      <td>-0.0700</td>\n",
       "      <td>0.0577</td>\n",
       "      <td>2.3379</td>\n",
       "      <td>SPY|2009-03-21|68.0|C</td>\n",
       "    </tr>\n",
       "  </tbody>\n",
       "</table>\n",
       "<p>5 rows × 26 columns</p>\n",
       "</div>"
      ],
      "text/plain": [
       "      underlying_symbol      quote_datetime root expiration  strike  \\\n",
       "1215                SPY 2009-03-02 09:31:00  SFB 2009-03-21   130.0   \n",
       "91611               SPY 2009-03-02 10:52:00  SWV 2009-03-21    68.0   \n",
       "91610               SPY 2009-03-02 10:51:00  SWV 2009-03-21    68.0   \n",
       "91609               SPY 2009-03-02 10:50:00  SWV 2009-03-21    68.0   \n",
       "91608               SPY 2009-03-02 10:49:00  SWV 2009-03-21    68.0   \n",
       "\n",
       "      option_type  open  high  low  close           ...            \\\n",
       "1215            P   0.0   0.0  0.0    0.0           ...             \n",
       "91611           C   0.0   0.0  0.0    0.0           ...             \n",
       "91610           C   0.0   0.0  0.0    0.0           ...             \n",
       "91609           C   0.0   0.0  0.0    0.0           ...             \n",
       "91608           C   0.0   0.0  0.0    0.0           ...             \n",
       "\n",
       "       underlying_ask  implied_underlying_price  active_underlying_price  \\\n",
       "1215            72.31                    0.0000                   72.305   \n",
       "91611           71.94                   71.6738                   71.940   \n",
       "91610           72.01                   71.7788                   72.010   \n",
       "91609           72.01                   71.7538                   72.010   \n",
       "91608           72.08                   71.8238                   72.080   \n",
       "\n",
       "       implied_volatility   delta   gamma   theta    vega     rho  \\\n",
       "1215               1.3962 -0.9522  0.0043 -0.0595  0.0165 -6.7094   \n",
       "91611              0.5239  0.6883  0.0406 -0.0696  0.0580  2.3194   \n",
       "91610              0.5249  0.6927  0.0402 -0.0706  0.0577  2.3344   \n",
       "91609              0.5274  0.6908  0.0401 -0.0703  0.0578  2.3274   \n",
       "91608              0.5276  0.6935  0.0399 -0.0700  0.0577  2.3379   \n",
       "\n",
       "                         hash  \n",
       "1215   SPY|2009-03-21|130.0|P  \n",
       "91611   SPY|2009-03-21|68.0|C  \n",
       "91610   SPY|2009-03-21|68.0|C  \n",
       "91609   SPY|2009-03-21|68.0|C  \n",
       "91608   SPY|2009-03-21|68.0|C  \n",
       "\n",
       "[5 rows x 26 columns]"
      ]
     },
     "execution_count": 11,
     "metadata": {},
     "output_type": "execute_result"
    }
   ],
   "source": [
    "otherData = data[data[\"bid\"]>0]\n",
    "otherData.sort_values([\"expiration\"],ascending=[True]).head()"
   ]
  },
  {
   "cell_type": "code",
   "execution_count": 12,
   "metadata": {
    "collapsed": false,
    "scrolled": true
   },
   "outputs": [
    {
     "ename": "AttributeError",
     "evalue": "'Series' object has no attribute 'flip'",
     "output_type": "error",
     "traceback": [
      "\u001b[0;31m---------------------------------------------------------------------------\u001b[0m",
      "\u001b[0;31mAttributeError\u001b[0m                            Traceback (most recent call last)",
      "\u001b[0;32m<ipython-input-12-828e24044d02>\u001b[0m in \u001b[0;36m<module>\u001b[0;34m()\u001b[0m\n\u001b[0;32m----> 1\u001b[0;31m \u001b[1;32mprint\u001b[0m \u001b[0mlastRow\u001b[0m\u001b[1;33m.\u001b[0m\u001b[0mflip\u001b[0m\u001b[1;33m(\u001b[0m\u001b[1;33m)\u001b[0m\u001b[1;33m\u001b[0m\u001b[0m\n\u001b[0m",
      "\u001b[0;32mC:\\Program Files\\Anaconda2\\lib\\site-packages\\pandas\\core\\generic.pyc\u001b[0m in \u001b[0;36m__getattr__\u001b[0;34m(self, name)\u001b[0m\n\u001b[1;32m   3079\u001b[0m             \u001b[1;32mif\u001b[0m \u001b[0mname\u001b[0m \u001b[1;32min\u001b[0m \u001b[0mself\u001b[0m\u001b[1;33m.\u001b[0m\u001b[0m_info_axis\u001b[0m\u001b[1;33m:\u001b[0m\u001b[1;33m\u001b[0m\u001b[0m\n\u001b[1;32m   3080\u001b[0m                 \u001b[1;32mreturn\u001b[0m \u001b[0mself\u001b[0m\u001b[1;33m[\u001b[0m\u001b[0mname\u001b[0m\u001b[1;33m]\u001b[0m\u001b[1;33m\u001b[0m\u001b[0m\n\u001b[0;32m-> 3081\u001b[0;31m             \u001b[1;32mreturn\u001b[0m \u001b[0mobject\u001b[0m\u001b[1;33m.\u001b[0m\u001b[0m__getattribute__\u001b[0m\u001b[1;33m(\u001b[0m\u001b[0mself\u001b[0m\u001b[1;33m,\u001b[0m \u001b[0mname\u001b[0m\u001b[1;33m)\u001b[0m\u001b[1;33m\u001b[0m\u001b[0m\n\u001b[0m\u001b[1;32m   3082\u001b[0m \u001b[1;33m\u001b[0m\u001b[0m\n\u001b[1;32m   3083\u001b[0m     \u001b[1;32mdef\u001b[0m \u001b[0m__setattr__\u001b[0m\u001b[1;33m(\u001b[0m\u001b[0mself\u001b[0m\u001b[1;33m,\u001b[0m \u001b[0mname\u001b[0m\u001b[1;33m,\u001b[0m \u001b[0mvalue\u001b[0m\u001b[1;33m)\u001b[0m\u001b[1;33m:\u001b[0m\u001b[1;33m\u001b[0m\u001b[0m\n",
      "\u001b[0;31mAttributeError\u001b[0m: 'Series' object has no attribute 'flip'"
     ]
    }
   ],
   "source": [
    "print lastRow.flip()"
   ]
  },
  {
   "cell_type": "code",
   "execution_count": null,
   "metadata": {
    "collapsed": false
   },
   "outputs": [],
   "source": [
    "#newFrame = pd.DataFrame(columns=data.columns)\n",
    "#lastRow[\"root\"] = \"SPY\"\n",
    "#newFrame.append(lastRow)\n",
    "print type(lastRow)"
   ]
  },
  {
   "cell_type": "code",
   "execution_count": null,
   "metadata": {
    "collapsed": false
   },
   "outputs": [],
   "source": [
    "#[data[\"bid\"]>0]\n",
    "print data[data[\"expiration\"]==\"2009-03-27\"]['hash']"
   ]
  },
  {
   "cell_type": "code",
   "execution_count": null,
   "metadata": {
    "collapsed": false
   },
   "outputs": [],
   "source": [
    "#generate time seris \n",
    "def getTimeSeries(pdRowList,yValue):\n",
    "    time = []\n",
    "    price = []\n",
    "    for item in pdRowList:\n",
    "        time.append(item['quote_datetime'])\n",
    "        price.append(item[yValue])\n",
    "    return {'time':time,'y':price} "
   ]
  },
  {
   "cell_type": "code",
   "execution_count": null,
   "metadata": {
    "collapsed": false,
    "scrolled": false
   },
   "outputs": [],
   "source": [
    "#uses the get Time series function to get the time and plot it versus the datetime \n",
    "ts = getTimeSeries(optionD[\"RQQ|2009-03-31|131.0|P\"],'underlying_ask')\n",
    "t = ts['time']\n",
    "y = ts['y']\n",
    "plt.plot(t,y)"
   ]
  },
  {
   "cell_type": "code",
   "execution_count": null,
   "metadata": {
    "collapsed": false
   },
   "outputs": [],
   "source": [
    "#this just plots a lot of things. It doesn't work that well \n",
    "i = 0 \n",
    "for key in optionD: \n",
    "    i = i + 1 \n",
    "    ts = getTimeSeries(optionD[key],'theta')\n",
    "    t = ts['time']\n",
    "    y = ts['y']\n",
    "    if((i%37==0) and (optionD[key][1]['option_type'] ==\"C\") and (optionD[key][1]['bid']>0)):\n",
    "        plt.plot(t,y) "
   ]
  },
  {
   "cell_type": "code",
   "execution_count": null,
   "metadata": {
    "collapsed": true
   },
   "outputs": [],
   "source": [
    "\n"
   ]
  }
 ],
 "metadata": {
  "anaconda-cloud": {},
  "celltoolbar": "Raw Cell Format",
  "kernelspec": {
   "display_name": "Python [default]",
   "language": "python",
   "name": "python2"
  },
  "language_info": {
   "codemirror_mode": {
    "name": "ipython",
    "version": 2
   },
   "file_extension": ".py",
   "mimetype": "text/x-python",
   "name": "python",
   "nbconvert_exporter": "python",
   "pygments_lexer": "ipython2",
   "version": "2.7.12"
  }
 },
 "nbformat": 4,
 "nbformat_minor": 1
}
